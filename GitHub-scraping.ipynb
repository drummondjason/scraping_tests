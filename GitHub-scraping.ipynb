{
 "cells": [
  {
   "cell_type": "code",
   "execution_count": 73,
   "id": "19de93cf",
   "metadata": {},
   "outputs": [],
   "source": [
    "from bs4 import BeautifulSoup\n",
    "import requests"
   ]
  },
  {
   "cell_type": "code",
   "execution_count": null,
   "id": "fbbe5cfa",
   "metadata": {},
   "outputs": [],
   "source": [
    "#function to find artist links\n",
    "def get_artist_links(artist):\n",
    "    links = []\n",
    "    artist = artist.replace(' ', '_')\n",
    "    url = 'http://lyrics.wikia.com/wiki/' + artist\n",
    "    try:    \n",
    "        content = urllib.request.urlopen(url).read() \n",
    "        soup = BeautifulSoup(content, 'html.parser')\n",
    "        trackography = soup.find('div', class_=\"mw-content-ltr mw-content-text\")"
   ]
  },
  {
   "cell_type": "code",
   "execution_count": 74,
   "id": "9b83b9cc",
   "metadata": {},
   "outputs": [],
   "source": [
    "url = 'https://github.com/topics/v2-4'"
   ]
  },
  {
   "cell_type": "code",
   "execution_count": 75,
   "id": "dcbdafdc",
   "metadata": {},
   "outputs": [],
   "source": [
    "page = requests.get(url)\n",
    "soup = BeautifulSoup(page.content, 'html.parser')"
   ]
  },
  {
   "cell_type": "code",
   "execution_count": 53,
   "id": "2897353f",
   "metadata": {
    "scrolled": true
   },
   "outputs": [],
   "source": [
    "x=soup.find('div', class_=\"col-md-8 col-lg-9\")"
   ]
  },
  {
   "cell_type": "code",
   "execution_count": 55,
   "id": "50e200c7",
   "metadata": {},
   "outputs": [],
   "source": [
    "b =x.findAll('article')"
   ]
  },
  {
   "cell_type": "code",
   "execution_count": 62,
   "id": "9051bee5",
   "metadata": {},
   "outputs": [],
   "source": [
    "c = b[0].get('href')"
   ]
  },
  {
   "cell_type": "code",
   "execution_count": 63,
   "id": "b4b6f17d",
   "metadata": {},
   "outputs": [
    {
     "name": "stdout",
     "output_type": "stream",
     "text": [
      "None\n"
     ]
    }
   ],
   "source": [
    "print(c)"
   ]
  },
  {
   "cell_type": "code",
   "execution_count": null,
   "id": "13249291",
   "metadata": {},
   "outputs": [],
   "source": [
    "class=\"col-md-8 col-lg-9\""
   ]
  },
  {
   "cell_type": "code",
   "execution_count": null,
   "id": "4dab7955",
   "metadata": {},
   "outputs": [],
   "source": [
    "class=\"f3 color-fg-muted text-normal lh-condensed\""
   ]
  },
  {
   "cell_type": "code",
   "execution_count": 67,
   "id": "a80f36ef",
   "metadata": {},
   "outputs": [],
   "source": [
    "lob = b[0].find('h3', class_='f3 color-fg-muted text-normal lh-condensed').findAll('a')"
   ]
  },
  {
   "cell_type": "code",
   "execution_count": 68,
   "id": "1d02eff0",
   "metadata": {},
   "outputs": [
    {
     "data": {
      "text/plain": [
       "'/learn-co-curriculum/dsc-sql-interview-questions-lab'"
      ]
     },
     "execution_count": 68,
     "metadata": {},
     "output_type": "execute_result"
    }
   ],
   "source": [
    "lob[1].get('href')"
   ]
  },
  {
   "cell_type": "code",
   "execution_count": 76,
   "id": "f3dce748",
   "metadata": {},
   "outputs": [],
   "source": [
    "urls = []"
   ]
  },
  {
   "cell_type": "code",
   "execution_count": 77,
   "id": "a5409b32",
   "metadata": {},
   "outputs": [],
   "source": [
    "articles = soup.find('div', class_=\"col-md-8 col-lg-9\").findAll('article')"
   ]
  },
  {
   "cell_type": "code",
   "execution_count": 78,
   "id": "0e8313a7",
   "metadata": {},
   "outputs": [],
   "source": [
    "for article in articles:\n",
    "    art = article.find('h3', class_='f3 color-fg-muted text-normal lh-condensed').findAll('a')\n",
    "    urls.append(art[1].get('href'))"
   ]
  },
  {
   "cell_type": "code",
   "execution_count": 79,
   "id": "d8d061f7",
   "metadata": {},
   "outputs": [
    {
     "data": {
      "text/plain": [
       "['/learn-co-curriculum/dsc-sql-interview-questions-lab',\n",
       " '/learn-co-curriculum/dsc-project-template',\n",
       " '/learn-co-curriculum/dsc-using-sql-with-pandas-lab',\n",
       " '/learn-co-curriculum/dsc-roc-curves-and-auc',\n",
       " '/learn-co-curriculum/dsc-project-eda-with-pandas',\n",
       " '/learn-co-curriculum/dsc-classification-with-word-embeddings-codealong',\n",
       " '/learn-co-curriculum/dsc-ridge-and-lasso-regression',\n",
       " '/learn-co-curriculum/dsc-pandas-data-cleaning-lab',\n",
       " '/learn-co-curriculum/dsc-data-science-processes',\n",
       " '/learn-co-curriculum/dsc-feature-selection-methods',\n",
       " '/learn-co-curriculum/dsc-implementing-recommender-systems-lab',\n",
       " '/learn-co-curriculum/dsc-curse-of-dimensionality-lab',\n",
       " '/learn-co-curriculum/dsc-decision-trees-with-sklearn-codealong',\n",
       " '/learn-co-curriculum/dsc-pca-numpy-lab',\n",
       " '/learn-co-curriculum/dsc-node-centrality',\n",
       " '/learn-co-curriculum/dsc-pca-in-scikitlearn',\n",
       " '/learn-co-curriculum/als-recommender-system-pyspark-lab',\n",
       " '/learn-co-curriculum/dsc-grouping-data-with-sql-lab',\n",
       " '/learn-co-curriculum/dsc-gaussian-naive-bayes-lab',\n",
       " '/learn-co-curriculum/dsc-pca-in-scikitlearn-lab']"
      ]
     },
     "execution_count": 79,
     "metadata": {},
     "output_type": "execute_result"
    }
   ],
   "source": [
    "urls"
   ]
  },
  {
   "cell_type": "code",
   "execution_count": null,
   "id": "3cbbba47",
   "metadata": {},
   "outputs": [],
   "source": []
  }
 ],
 "metadata": {
  "kernelspec": {
   "display_name": "Python 3 (ipykernel)",
   "language": "python",
   "name": "python3"
  },
  "language_info": {
   "codemirror_mode": {
    "name": "ipython",
    "version": 3
   },
   "file_extension": ".py",
   "mimetype": "text/x-python",
   "name": "python",
   "nbconvert_exporter": "python",
   "pygments_lexer": "ipython3",
   "version": "3.9.12"
  }
 },
 "nbformat": 4,
 "nbformat_minor": 5
}
